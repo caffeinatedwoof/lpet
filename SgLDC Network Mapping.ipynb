{
 "cells": [
  {
   "cell_type": "code",
   "execution_count": null,
   "id": "217884df",
   "metadata": {},
   "outputs": [],
   "source": [
    "# Import relevant libraries\n",
    "\n",
    "import pandas as pd\n",
    "import matplotlib.pyplot as plt\n",
    "\n",
    "# Read the CSV file into a Pandas dataframe\n",
    "# Insert filename with correct path, e.g. '.../SgLDC Datawork/FB_Analytics(2022).csv'\n",
    "df = pd.read_csv() "
   ]
  },
  {
   "cell_type": "markdown",
   "id": "90571621",
   "metadata": {},
   "source": [
    "### Finding the Top Contributors ###"
   ]
  },
  {
   "cell_type": "code",
   "execution_count": null,
   "id": "e95dad51",
   "metadata": {},
   "outputs": [],
   "source": [
    "# Group the data by the 'Top Contributors' column and calculate the total number of posts for each contributor\n",
    "grouped_df = df.groupby('Top Contributors')['Posts'].sum()\n",
    "grouped_df = grouped_df[grouped_df > 0]\n",
    "# Sort the top contributors by total number of posts, in descending order\n",
    "sorted_df = grouped_df.sort_values(ascending=False)"
   ]
  },
  {
   "cell_type": "code",
   "execution_count": null,
   "id": "d122c708",
   "metadata": {},
   "outputs": [],
   "source": [
    "# Extract the data to be plotted from the sorted_df DataFrame\n",
    "data = sorted_df.values\n",
    "\n",
    "# Create the boxplot\n",
    "fig, ax = plt.subplots()\n",
    "ax.boxplot(data)\n",
    "ax.set_xlabel('Top Contributors')\n",
    "ax.set_ylabel('Number of Posts')\n",
    "ax.set_xticklabels([])\n",
    "\n",
    "# Show the plot\n",
    "plt.show()"
   ]
  },
  {
   "cell_type": "code",
   "execution_count": null,
   "id": "e5417f5b",
   "metadata": {},
   "outputs": [],
   "source": [
    "# Making the boxplot without the outliers\n",
    "\n",
    "data_filtered = sorted_df.loc[sorted_df < 4].values\n",
    "\n",
    "# Create the boxplot\n",
    "fig, ax = plt.subplots()\n",
    "ax.boxplot(data_filtered)\n",
    "ax.set_xlabel('Top Contributors')\n",
    "ax.set_ylabel('Number of Posts')\n",
    "ax.set_xticklabels([])\n",
    "\n",
    "# Show the plot\n",
    "plt.show()"
   ]
  },
  {
   "cell_type": "markdown",
   "id": "19477c7c",
   "metadata": {},
   "source": [
    "### Computing the Churn Rate ###"
   ]
  },
  {
   "cell_type": "code",
   "execution_count": null,
   "id": "b1cc67a1",
   "metadata": {},
   "outputs": [],
   "source": [
    "def compute_index(lst1, lst2):\n",
    "    assert len(lst1) == len(lst2)\n",
    "    common_names = list(set(lst1) & set(lst2))\n",
    "    return len(common_names) / len(lst1)"
   ]
  },
  {
   "cell_type": "code",
   "execution_count": null,
   "id": "2bc518ea",
   "metadata": {},
   "outputs": [],
   "source": [
    "# Define a mapping from month names to month numbers\n",
    "month_mapping = {'Jan': 1, 'Feb': 2, 'Mar': 3, 'Apr': 4, 'May': 5, 'Jun': 6,\n",
    "                 'Jul': 7, 'Aug': 8, 'Sep': 9, 'Oct': 10, 'Nov': 11, 'Dec': 12}\n",
    "\n",
    "# Split the month and day from the input string\n",
    "new = df['Date'].str.split('/', n=1, expand=True)\n",
    "df['month'] = new[0]\n",
    "df['year'] = new[1]\n",
    "\n",
    "# Convert the month to a month number using the mapping\n",
    "df['month'] = df['month'].apply(lambda x: month_mapping[x])\n",
    "\n",
    "# Convert the year to an integer\n",
    "df['year'] = pd.to_numeric(df['year'])\n",
    "\n",
    "grouped_df = df.groupby(['month', 'Top Contributors'])['Posts'].sum()\n",
    "\n",
    "# Iterate through each month and calculate the index\n",
    "for i, (month, group) in enumerate(grouped_df.groupby(level=0)):\n",
    "    # Get the top 10 names for this month\n",
    "    top_contributors = group.nlargest(5)\n",
    "    \n",
    "    # If this is not the first month, calculate the index\n",
    "    if i > 0:\n",
    "        # Get the top 5 names for the previous month\n",
    "        prev_month = month - 1\n",
    "        prev_group = grouped_df.loc[prev_month]\n",
    "        prev_top_contributors = prev_group.nlargest(5)\n",
    "        \n",
    "        # Calculate the index\n",
    "        index = compute_index(top_contributors, prev_top_contributors)\n",
    "        print(f'Index for month {month}: {index}')"
   ]
  },
  {
   "cell_type": "code",
   "execution_count": null,
   "id": "1081308a",
   "metadata": {},
   "outputs": [],
   "source": []
  }
 ],
 "metadata": {
  "kernelspec": {
   "display_name": "Python 3 (ipykernel)",
   "language": "python",
   "name": "python3"
  },
  "language_info": {
   "codemirror_mode": {
    "name": "ipython",
    "version": 3
   },
   "file_extension": ".py",
   "mimetype": "text/x-python",
   "name": "python",
   "nbconvert_exporter": "python",
   "pygments_lexer": "ipython3",
   "version": "3.8.13"
  }
 },
 "nbformat": 4,
 "nbformat_minor": 5
}
