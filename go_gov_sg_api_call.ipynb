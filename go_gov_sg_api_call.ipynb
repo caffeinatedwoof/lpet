{
 "cells": [
  {
   "cell_type": "markdown",
   "id": "ecc9eeec",
   "metadata": {},
   "source": [
    "This is a program using go.gov.sg's API integration to access the number of clicks for list of shortened links.\n",
    "\n",
    "Originally written for SgLDC team to collate data on access to Virtual Meet recordings & resources."
   ]
  },
  {
   "cell_type": "code",
   "execution_count": 1,
   "id": "062f43c7",
   "metadata": {},
   "outputs": [],
   "source": [
    "import pandas as pd\n",
    "import requests"
   ]
  },
  {
   "cell_type": "code",
   "execution_count": 2,
   "id": "c91b737a",
   "metadata": {},
   "outputs": [],
   "source": [
    "# Replace the filename with your actual file\n",
    "short_urls_to_check = pd.read_csv('') # e.g. /Users/admin/Desktop/shortlinks.csv\n",
    "\n",
    "# Ensure that the csv file follows the same format as the sample given\n",
    "short_urls_to_check = set(short_urls_to_check['short_url'])"
   ]
  },
  {
   "cell_type": "code",
   "execution_count": 4,
   "id": "8ed4447a",
   "metadata": {},
   "outputs": [],
   "source": [
    "# Replace YOUR_API_KEY with your actual API key\n",
    "api_key = \"\" #e.g. live_v1...\"\n",
    "\n",
    "# Set the URL of the endpoint you want to access\n",
    "url = f\"https://go.gov.sg/api/v1/urls/?\"\n",
    "\n",
    "# Set the request headers, including the Authorization header with your API key\n",
    "header = {\n",
    "    \"Authorization\": f\"Bearer {api_key}\"\n",
    "}\n",
    "\n",
    "# Send the GET request\n",
    "response = requests.get(url, headers=header)\n",
    "\n",
    "# Check the status code of the response to make sure the request was successful\n",
    "if response.status_code == 200:\n",
    "    # If the request was successful, the response will contain the data you requested\n",
    "    data = response.json()\n",
    "    \n",
    "else:\n",
    "    # If the request was not successful, print the status code and the error message\n",
    "    print(f\"Request failed with status code {response.status_code}: {response.text}\")"
   ]
  },
  {
   "cell_type": "code",
   "execution_count": 5,
   "id": "7e83a079",
   "metadata": {},
   "outputs": [
    {
     "name": "stdout",
     "output_type": "stream",
     "text": [
      "Short URL: 22vm3sharing17, Clicks: 14\n",
      "Short URL: 22vm3sharing18, Clicks: 4\n",
      "Short URL: 22vm3sharing19, Clicks: 19\n",
      "Short URL: 22vm3sharing16, Clicks: 4\n",
      "Short URL: 22vm3sharing15, Clicks: 19\n",
      "Short URL: 22vm3sharing14, Clicks: 15\n",
      "Short URL: 22vm3sharing13, Clicks: 23\n",
      "Short URL: 22vm3sharing11, Clicks: 43\n",
      "Short URL: 22vm3sharing10, Clicks: 41\n",
      "Short URL: 22vm3sharing06, Clicks: 38\n",
      "Short URL: 22vm3sharing05, Clicks: 44\n",
      "Short URL: 22vm3sharing04, Clicks: 34\n",
      "Short URL: 22vm3sharing03, Clicks: 40\n",
      "Short URL: 22vm3sharing02, Clicks: 47\n",
      "Short URL: 22vm3sharing01, Clicks: 64\n"
     ]
    }
   ],
   "source": [
    "short_urls_and_clicks = []\n",
    "\n",
    "# Iterate over the list of URLs\n",
    "for url in data['urls']:\n",
    "  # Access the shortURL and clicks properties of each URL object\n",
    "    short_url = url['shortUrl']\n",
    "    clicks = url['clicks']\n",
    "  \n",
    "  # Check if the short URL is in the set of short URLs to check\n",
    "    if short_url in short_urls_to_check:\n",
    "        print(f\"Short URL: {short_url}, Clicks: {clicks}\")\n",
    "        short_urls_and_clicks.append((short_url, clicks))\n",
    "        \n",
    "# Create a dataframe from the list of short URLs and clicks\n",
    "df = pd.DataFrame(short_urls_and_clicks, columns=['short_url', 'clicks'])\n",
    "df.sort_values(by='short_url', inplace=True)\n",
    "\n",
    "# Write the dataframe to a CSV file\n",
    "df.to_csv('short_urls_and_clicks.csv', index=False)"
   ]
  }
 ],
 "metadata": {
  "kernelspec": {
   "display_name": "Python 3 (ipykernel)",
   "language": "python",
   "name": "python3"
  },
  "language_info": {
   "codemirror_mode": {
    "name": "ipython",
    "version": 3
   },
   "file_extension": ".py",
   "mimetype": "text/x-python",
   "name": "python",
   "nbconvert_exporter": "python",
   "pygments_lexer": "ipython3",
   "version": "3.8.13"
  }
 },
 "nbformat": 4,
 "nbformat_minor": 5
}
