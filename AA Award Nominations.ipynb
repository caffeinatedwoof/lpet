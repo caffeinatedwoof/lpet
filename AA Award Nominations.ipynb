{
 "cells": [
  {
   "cell_type": "code",
   "execution_count": null,
   "metadata": {},
   "outputs": [],
   "source": [
    "# Import pandas library\n",
    "import pandas as pd\n",
    "# Load csv file\n",
    "designers = pd.read_csv('') # Insert file name with proper filepath"
   ]
  },
  {
   "cell_type": "code",
   "execution_count": null,
   "metadata": {},
   "outputs": [],
   "source": [
    "# Overview of data\n",
    "designers.info()"
   ]
  },
  {
   "cell_type": "code",
   "execution_count": null,
   "metadata": {},
   "outputs": [],
   "source": [
    "designers.head()"
   ]
  },
  {
   "cell_type": "code",
   "execution_count": null,
   "metadata": {},
   "outputs": [],
   "source": [
    "# For designer lessons with multiple users - split into different users\n",
    "designers[['FB handle', 'FB handle 2', 'FB handle 3']] = designers['FB handle'].str.split(',', 2, expand=True)"
   ]
  },
  {
   "cell_type": "code",
   "execution_count": null,
   "metadata": {},
   "outputs": [],
   "source": [
    "# Simple dictionary to count number of badges by awardess\n",
    "def count_badge_awardees(dataframe):\n",
    "    d = {}\n",
    "    for name in dataframe['FB handle']:\n",
    "        if name in d:\n",
    "            d[name] += 1\n",
    "        elif name not in d:\n",
    "            d[name] = 1\n",
    "    for name in dataframe['FB handle 2']:\n",
    "        if name in d:\n",
    "            d[name] += 1\n",
    "        elif name not in d:\n",
    "            d[name] = 1\n",
    "    for name in dataframe['FB handle 3']:\n",
    "        if name in d:\n",
    "            d[name] += 1\n",
    "        elif name not in d:\n",
    "            d[name] = 1\n",
    "    return d"
   ]
  },
  {
   "cell_type": "code",
   "execution_count": null,
   "metadata": {},
   "outputs": [],
   "source": [
    "result = count_badge_awardees(designers)"
   ]
  },
  {
   "cell_type": "code",
   "execution_count": null,
   "metadata": {},
   "outputs": [],
   "source": [
    "# Sort results by number of badges \n",
    "{k: v for k, v in sorted(result.items(), key=lambda item: item[1])}"
   ]
  }
 ],
 "metadata": {
  "kernelspec": {
   "display_name": "Python 3 (ipykernel)",
   "language": "python",
   "name": "python3"
  },
  "language_info": {
   "codemirror_mode": {
    "name": "ipython",
    "version": 3
   },
   "file_extension": ".py",
   "mimetype": "text/x-python",
   "name": "python",
   "nbconvert_exporter": "python",
   "pygments_lexer": "ipython3",
   "version": "3.8.13"
  }
 },
 "nbformat": 4,
 "nbformat_minor": 4
}
