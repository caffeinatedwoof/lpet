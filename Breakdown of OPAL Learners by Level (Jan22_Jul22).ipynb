{
 "cells": [
  {
   "cell_type": "code",
   "execution_count": 1,
   "metadata": {},
   "outputs": [],
   "source": [
    "#Import Pandas Library\n",
    "import pandas as pd\n",
    "\n",
    "#Modify file path accordingly \n",
    "learners = pd.read_csv(\"/Users/admin/Desktop/OPAL 2.0 Data/unique_learners_jan22_sep22.csv\") #Insert File Path here"
   ]
  },
  {
   "cell_type": "code",
   "execution_count": 2,
   "metadata": {},
   "outputs": [
    {
     "name": "stdout",
     "output_type": "stream",
     "text": [
      "The first five rows of the dataset are\n",
      "\n",
      "\n",
      "   No.                      Name                          Email  Designation  \\\n",
      "0    1                    Du Jia              du_jia@moe.edu.sg  Snr Teacher   \n",
      "1    2       Vilochana D/O Veloo   vilochana_veloo_a@moe.edu.sg      Teacher   \n",
      "2    3              Sin Kok Hong        sin_kok_hong@moe.edu.sg      Teacher   \n",
      "3    4             Peh Teow Peng       peh_teow_peng@moe.edu.sg      Teacher   \n",
      "4    5  SITI ZAINAB BINTE ZAINAL  siti_zainab_zainal@moe.edu.sg      Teacher   \n",
      "\n",
      "  Service Scheme                          Place of Work  \\\n",
      "0             EO  CHIJ St. Nicholas Girls’ School (Sec)   \n",
      "1             EO  CHIJ St. Nicholas Girls’ School (Sec)   \n",
      "2             EO              Assumption Pathway School   \n",
      "3             EO             Hillgrove Secondary School   \n",
      "4             EO             CHIJ Secondary (Toa Payoh)   \n",
      "\n",
      "   Learning Content Progress (%) Attendance Summary Progress Status  \\\n",
      "0                          100.0       EP-000033-21       Completed   \n",
      "1                            NaN       EP-000033-21     Not Started   \n",
      "2                            NaN       EP-000033-21     Not Started   \n",
      "3                          100.0       EP-000033-21       Completed   \n",
      "4                            NaN       EP-000033-21     Not Started   \n",
      "\n",
      "  Course Status  ...  Unnamed: 16 Unnamed: 17  Unnamed: 18  Unnamed: 19  \\\n",
      "0           NaN  ...          NaN         NaN          NaN          NaN   \n",
      "1           NaN  ...          NaN         NaN          NaN          NaN   \n",
      "2           NaN  ...          NaN         NaN          NaN          NaN   \n",
      "3           NaN  ...          NaN         NaN          NaN          NaN   \n",
      "4           NaN  ...          NaN         NaN          NaN          NaN   \n",
      "\n",
      "   Unnamed: 20  Unnamed: 21  Unnamed: 22  Unnamed: 23  Unnamed: 24  \\\n",
      "0          NaN          NaN          NaN          NaN          NaN   \n",
      "1          NaN          NaN          NaN          NaN          NaN   \n",
      "2          NaN          NaN          NaN          NaN          NaN   \n",
      "3          NaN          NaN          NaN          NaN          NaN   \n",
      "4          NaN          NaN          NaN          NaN          NaN   \n",
      "\n",
      "   Unnamed: 25  \n",
      "0          NaN  \n",
      "1          NaN  \n",
      "2          NaN  \n",
      "3          NaN  \n",
      "4          NaN  \n",
      "\n",
      "[5 rows x 26 columns]\n",
      "The last five rows of the dataset are\n",
      "\n",
      "\n",
      "      No.                           Name  \\\n",
      "1105    7            Belicia Ong Sze Han   \n",
      "1106    1          Roselinda Binte Mahat   \n",
      "1107    2           See Yan Ting, Dionne   \n",
      "1108    5  Mahalakshmi D/O Panneerselvam   \n",
      "1109    1                  Soh Ming Quan   \n",
      "\n",
      "                                     Email   Designation Service Scheme  \\\n",
      "1105        belicia_ong_sze_han@moe.edu.sg       Teacher             EO   \n",
      "1106            roselinda_mahat@moe.edu.sg       Teacher             EO   \n",
      "1107        see_yan_ting_dionne@moe.edu.sg       Teacher             EO   \n",
      "1108  mahalakshmi_panneerselvam@moe.edu.sg       Teacher             EO   \n",
      "1109              soh_ming_quan@moe.edu.sg  Subject Head             EO   \n",
      "\n",
      "                          Place of Work  Learning Content Progress (%)  \\\n",
      "1105          Westwood Secondary School                            NaN   \n",
      "1106  Princess Elizabeth Primary School                            NaN   \n",
      "1107  Princess Elizabeth Primary School                            NaN   \n",
      "1108           Sembawang Primary School                          100.0   \n",
      "1109             Yuhua Secondary School                            NaN   \n",
      "\n",
      "     Attendance Summary Progress Status Course Status  ...  Unnamed: 16  \\\n",
      "1105       EP-000035-39     Not Started           NaN  ...          NaN   \n",
      "1106       EP-000036-36     Not Started           NaN  ...          NaN   \n",
      "1107       EP-000036-36     Not Started           NaN  ...          NaN   \n",
      "1108       EP-000036-37       Completed           NaN  ...          NaN   \n",
      "1109       EP-000036-41     Not Started           NaN  ...          NaN   \n",
      "\n",
      "     Unnamed: 17  Unnamed: 18  Unnamed: 19  Unnamed: 20  Unnamed: 21  \\\n",
      "1105         NaN          NaN          NaN          NaN          NaN   \n",
      "1106         NaN          NaN          NaN          NaN          NaN   \n",
      "1107         NaN          NaN          NaN          NaN          NaN   \n",
      "1108         NaN          NaN          NaN          NaN          NaN   \n",
      "1109         NaN          NaN          NaN          NaN          NaN   \n",
      "\n",
      "      Unnamed: 22  Unnamed: 23  Unnamed: 24  Unnamed: 25  \n",
      "1105          NaN          NaN          NaN          NaN  \n",
      "1106          NaN          NaN          NaN          NaN  \n",
      "1107          NaN          NaN          NaN          NaN  \n",
      "1108          NaN          NaN          NaN          NaN  \n",
      "1109          NaN          NaN          NaN          NaN  \n",
      "\n",
      "[5 rows x 26 columns]\n"
     ]
    }
   ],
   "source": [
    "#See what the CSV file looks like \n",
    "print('The first five rows of the dataset are')\n",
    "print('\\n')\n",
    "print(learners.head())\n",
    "print('The last five rows of the dataset are')\n",
    "print('\\n')\n",
    "print(learners.tail())"
   ]
  },
  {
   "cell_type": "code",
   "execution_count": 3,
   "metadata": {},
   "outputs": [
    {
     "name": "stdout",
     "output_type": "stream",
     "text": [
      "<class 'pandas.core.frame.DataFrame'>\n",
      "RangeIndex: 1110 entries, 0 to 1109\n",
      "Data columns (total 26 columns):\n",
      " #   Column                         Non-Null Count  Dtype  \n",
      "---  ------                         --------------  -----  \n",
      " 0   No.                            1110 non-null   int64  \n",
      " 1   Name                           1110 non-null   object \n",
      " 2   Email                          1110 non-null   object \n",
      " 3   Designation                    1093 non-null   object \n",
      " 4   Service Scheme                 1109 non-null   object \n",
      " 5   Place of Work                  1110 non-null   object \n",
      " 6   Learning Content Progress (%)  677 non-null    float64\n",
      " 7   Attendance Summary             1110 non-null   object \n",
      " 8   Progress Status                1002 non-null   object \n",
      " 9   Course Status                  130 non-null    object \n",
      " 10  Completion Rate (%)            1110 non-null   float64\n",
      " 11  Unnamed: 11                    7 non-null      object \n",
      " 12  Unnamed: 12                    0 non-null      float64\n",
      " 13  Unnamed: 13                    0 non-null      float64\n",
      " 14  Unnamed: 14                    0 non-null      float64\n",
      " 15  Unnamed: 15                    0 non-null      float64\n",
      " 16  Unnamed: 16                    0 non-null      float64\n",
      " 17  Unnamed: 17                    0 non-null      float64\n",
      " 18  Unnamed: 18                    0 non-null      float64\n",
      " 19  Unnamed: 19                    0 non-null      float64\n",
      " 20  Unnamed: 20                    0 non-null      float64\n",
      " 21  Unnamed: 21                    0 non-null      float64\n",
      " 22  Unnamed: 22                    0 non-null      float64\n",
      " 23  Unnamed: 23                    0 non-null      float64\n",
      " 24  Unnamed: 24                    0 non-null      float64\n",
      " 25  Unnamed: 25                    0 non-null      float64\n",
      "dtypes: float64(16), int64(1), object(9)\n",
      "memory usage: 225.6+ KB\n"
     ]
    }
   ],
   "source": [
    "#Describe the dataframe\n",
    "learners.info()"
   ]
  },
  {
   "cell_type": "code",
   "execution_count": 4,
   "metadata": {},
   "outputs": [],
   "source": [
    "#Extract only columns we are interested in \n",
    "learners = learners[['Name','Email','Place of Work','Learning Content Progress (%)', 'Attendance Summary', 'Progress Status',\n",
    "                     'Course Status', 'Completion Rate (%)']]"
   ]
  },
  {
   "cell_type": "code",
   "execution_count": 5,
   "metadata": {},
   "outputs": [],
   "source": [
    "#Grab unique places of work listed in the file\n",
    "unique_names = list(learners['Place of Work'].unique())"
   ]
  },
  {
   "cell_type": "code",
   "execution_count": 15,
   "metadata": {},
   "outputs": [],
   "source": [
    "#List down places of work that correspond to IP schools\n",
    "\n",
    "IP = ['Anglo-Chinese School (Independent)', 'School Of The Arts','School Of The Arts, Singapore', 'NUS High School', 'Dunman High Sch',\n",
    "     'Hwa Chong Instutition','Hwa Chong Institution' 'National Junior College', 'Raffles Institution','River Valley High Sch',\n",
    "     'Temasek Junior College', 'Victoria Sch', 'School of Science and Technology', 'St. Joseph’s Inst', \n",
    "      'River Valley High School', 'NUS High School of Mathematics & Science']"
   ]
  },
  {
   "cell_type": "code",
   "execution_count": 16,
   "metadata": {},
   "outputs": [],
   "source": [
    "#List down places of work that correspond to NIE\n",
    "\n",
    "NIE = ['National Institute of Education (NIE)','MOE-NIE PGDE (Sec) (A-L)','MOE-NIE PGDE (Sec) (M-Z)']"
   ]
  },
  {
   "cell_type": "code",
   "execution_count": 17,
   "metadata": {},
   "outputs": [],
   "source": [
    "#List down places of work that correspond to MOE HQ\n",
    "\n",
    "HQ = ['Gifted Education Branch, CPDD1, MOE','Psychological Services Branch, SEND, MOE','English Lang & Literature Br, CPDD2, MOE','Student Devt Coord’n Office, SDCD, MOE','Mother Tongue Lang Br, CPDD1','School Branch (North), Sch Division','MOE-NIE Diploma in Edun, MOE (HQ) - NIE','HQ, MOE - Untrained Kindergarten Tr','Seconded out officers', 'School Operations Policy Branch, SD, MOE', 'HR Management Centre, HSCD, HRG, MOE',\n",
    "     'Pedagogical Excellence Br, AST, MOE', 'Research & Evaluation Branch, RMID, MOE',\n",
    "     'Schools Branch (West), SD, MOE','Guidance Branch, SDCD, MOE','Learning P’ship in Edun Technol, ETD,MOE',\n",
    "     'Special Education Branch, SEND, MOE', 'Physical,Sports&Outdoor Edun Br,SDCD,MOE', \n",
    "      'Curriculum Policy Office, Prof Wing, MOE', 'Professional Development Br 2, AST, MOE',\n",
    "     'Media Design for Learning, ETD, MOE', 'Humanities Branch, CPDD2, MOE', 'HQ, MOE - Untrained AED (LBS)',\n",
    "     'Engagement Branch, ERD, CEG, MOE', 'Mother Tongue Languages Br, CPDD1, MOE', 'Recruitment Centre, HSCD, HRG, MOE',\n",
    "     'STAR, Prof Wing, MOE','Sciences Branch, CPDD1, MOE', 'ICT Security&Cybersecurity Gov’e,ITD','Professional Development Br 2, AST',\n",
    "     'International Cooperation Br, PLD','Pre-School Education Branch, SD', 'MOE Language Centre (Bishan), CPDD1',\n",
    "     'HR Management Centre, HSCD, HRG','Gifted Education Branch, CPDD1', 'Professional Development Br 1, AST', 'Pedagogical Excellence Br, AST',\n",
    "     'PESTA','Development Planning Br, IFS Div','Guidance Br, SDCD', 'Character & Citizenship Ed Br, SDCD','Organisational Devt& Psy Br,HSLD,HRG',\n",
    "     'Schools Corporate Development Br,SD', 'HR Policy and Planning Br, HSLD', 'Humanities Br, CPDD2','Curriculum Policy Office',\n",
    "     'Psychological Services Branch, SEND','Engagement Branch, ERD, CEG', 'Special Education Branch, SEND',\n",
    "     'School Branch (West), Sch Division','Management Information Branch, RMID','Education Policy Br, PLD',\n",
    "     'Experimental Sys & Tech Lab Br, ITD','English Lang & Literature Br, CPDD2','Sciences Branch, CPDD1','HQ',\n",
    "     'Technologies for Learning, ETD','User account requests for new OUs','Learning P’ship In Edu Tech, ETD','Headquarters, MOE']"
   ]
  },
  {
   "cell_type": "code",
   "execution_count": 18,
   "metadata": {},
   "outputs": [],
   "source": [
    "#List down places of work that correspond to Special Schools\n",
    "\n",
    "special_schools = ['Canossian School','Rainbow Centre Admiral Hill School','Grace Orchard School','Pathlight School','APSN Katong School','Rainbow Centre Yishun Park School']"
   ]
  },
  {
   "cell_type": "code",
   "execution_count": 19,
   "metadata": {},
   "outputs": [],
   "source": [
    "#Build dictionary manually to account for the various exceptions\n",
    "\n",
    "def build_dictionary(element):\n",
    "    if element in HQ:\n",
    "        return 'HQ'\n",
    "    elif 'De La Salle School' in element:\n",
    "        return 'Pri'\n",
    "    elif element in IP:\n",
    "        return 'Sec / JC'\n",
    "    elif element in NIE:\n",
    "        return 'NIE'\n",
    "    elif 'St. Patrick’s Sch' in element:\n",
    "        return 'Sec'\n",
    "    elif element in special_schools:\n",
    "        return 'Special School'\n",
    "    elif 'Junior College' in element:\n",
    "        return 'JC'\n",
    "    elif 'Catholic High Sch (Pr)' in element:\n",
    "        return 'Pri'\n",
    "    elif 'Presbyterian High Sch' in element:\n",
    "        return 'Sec'\n",
    "    elif 'Sec' in element:\n",
    "        return 'Sec'\n",
    "    elif 'Secondary' in element:\n",
    "        return 'Sec'\n",
    "    elif 'Hwa Chong' in element:\n",
    "        return 'Sec / JC'\n",
    "    elif 'Junior' in element:\n",
    "        return 'Pri'\n",
    "    elif 'Pr' in element:\n",
    "        return 'Pri'\n",
    "    elif 'Pri' in element:\n",
    "        return 'Pri'\n",
    "    elif 'Primary' in element:\n",
    "        return 'Pri'\n",
    "    elif 'High' in element:\n",
    "        return 'Sec'\n",
    "    elif 'Gan Eng Seng Sch' in element:\n",
    "        return 'Sec'\n",
    "    elif 'Assumption Pathway School' in element:\n",
    "        return 'Sec'\n",
    "    elif 'CHIJ (Katong)' in element:\n",
    "        return 'Pri'\n",
    "    elif 'CHIJ Katong Convent' in element:\n",
    "        return 'Pri'\n",
    "    elif 'CHIJ St. Joseph’s Convent' in element:\n",
    "        return 'Sec'\n",
    "    elif 'CHIJ Our Lady Of Good Counsel' in element:\n",
    "        return 'Pri'\n",
    "    elif 'Marymount Convent Sch' in element:\n",
    "        return 'Pri'\n",
    "    elif 'Pei Chun Public Sch' in element:\n",
    "        return 'Pri'\n",
    "    elif 'CHIJ Our Lady Of The Nativity' in element:\n",
    "        return 'Pri'\n",
    "    elif 'CHIJ St Theresa’s Convent' in element:\n",
    "        return 'Sec'\n",
    "    elif 'CHIJ Our Lady Queen of Peace' in element:\n",
    "        return 'Pri'\n",
    "    elif 'CHIJ St. Theresa’s Convent' in element:\n",
    "        return 'Sec'\n",
    "    elif 'Northlight School' in element:\n",
    "        return 'Sec'\n",
    "    elif 'NorthLight School' in element:\n",
    "        return 'Sec'\n",
    "    elif \"St. Patrick's Sch\" in element:\n",
    "        return 'Sec'\n",
    "    elif \"Ai Tong Sch\" in element:\n",
    "        return 'Pri'\n",
    "    elif \"CHIJ St Joseph’s Convent\" in element:\n",
    "        return 'Sec'\n",
    "    elif \"CHIJ (Kellock)\" in element:\n",
    "        return \"Pri\"\n",
    "    elif 'Anglo-Chinese School (Barker Road)' in element:\n",
    "        return 'Sec'\n",
    "    elif 'Hai Sing Catholic Sch' in element:\n",
    "        return 'Sec'\n",
    "    elif 'Crescent Girls’ Sch' in element:\n",
    "        return 'Sec'\n",
    "    elif 'Crescent Girls’ School' in element:\n",
    "        return 'Sec'\n",
    "    elif 'Kong Hwa Sch' in element:\n",
    "        return 'Pri'\n",
    "    elif 'Millennia Institute' in element:\n",
    "        return 'JC'\n",
    "    elif 'Kheng Cheng Sch' in element:\n",
    "        return 'Pri'\n",
    "    elif 'Chongfu School' in element:\n",
    "        return 'Pri'\n",
    "    elif 'Maha Bodhi Sch' in element:\n",
    "        return 'Pri'\n",
    "    elif 'Rosyth Sch' in element:\n",
    "        return 'Pri'\n",
    "    elif 'Singapore Chinese Girls’ School' in element:\n",
    "        return 'Sec'\n",
    "    elif 'Assumption English Sch' in element:\n",
    "        return 'Sec'\n",
    "    elif 'Red Swastika Sch' in element:\n",
    "        return 'Pri'\n",
    "    elif 'Hong Wen Sch' in element:\n",
    "        return 'Pri'\n",
    "    elif 'MOE Partners' in element:\n",
    "        return 'MOE Partners'\n",
    "    elif 'Tanjong Katong Girls’ Sch' in element:\n",
    "        return 'Sec'\n",
    "    elif 'Singapore Chinese Girls’ Sch' in element:\n",
    "        return 'Sec'\n",
    "    else: \n",
    "        return 'Others'\n",
    "        "
   ]
  },
  {
   "cell_type": "code",
   "execution_count": 20,
   "metadata": {},
   "outputs": [],
   "source": [
    "#Build dictionary that maps Place of Work to Level\n",
    "\n",
    "d = {}\n",
    "for name in unique_names:\n",
    "    d[name] = build_dictionary(name)"
   ]
  },
  {
   "cell_type": "code",
   "execution_count": 21,
   "metadata": {},
   "outputs": [],
   "source": [
    "#Function to convert Place of Work to Level based on dictionary\n",
    "\n",
    "def convert_name(place_of_work):\n",
    "    return d[place_of_work]"
   ]
  },
  {
   "cell_type": "code",
   "execution_count": 22,
   "metadata": {},
   "outputs": [],
   "source": [
    "#Apply function to each row\n",
    "\n",
    "learners['Level'] = learners['Place of Work'].apply(convert_name)"
   ]
  },
  {
   "cell_type": "code",
   "execution_count": 23,
   "metadata": {},
   "outputs": [
    {
     "data": {
      "text/html": [
       "<div>\n",
       "<style scoped>\n",
       "    .dataframe tbody tr th:only-of-type {\n",
       "        vertical-align: middle;\n",
       "    }\n",
       "\n",
       "    .dataframe tbody tr th {\n",
       "        vertical-align: top;\n",
       "    }\n",
       "\n",
       "    .dataframe thead th {\n",
       "        text-align: right;\n",
       "    }\n",
       "</style>\n",
       "<table border=\"1\" class=\"dataframe\">\n",
       "  <thead>\n",
       "    <tr style=\"text-align: right;\">\n",
       "      <th></th>\n",
       "      <th>Name</th>\n",
       "      <th>Email</th>\n",
       "      <th>Place of Work</th>\n",
       "      <th>Learning Content Progress (%)</th>\n",
       "      <th>Attendance Summary</th>\n",
       "      <th>Progress Status</th>\n",
       "      <th>Course Status</th>\n",
       "      <th>Completion Rate (%)</th>\n",
       "      <th>Level</th>\n",
       "    </tr>\n",
       "  </thead>\n",
       "  <tbody>\n",
       "  </tbody>\n",
       "</table>\n",
       "</div>"
      ],
      "text/plain": [
       "Empty DataFrame\n",
       "Columns: [Name, Email, Place of Work, Learning Content Progress (%), Attendance Summary, Progress Status, Course Status, Completion Rate (%), Level]\n",
       "Index: []"
      ]
     },
     "execution_count": 23,
     "metadata": {},
     "output_type": "execute_result"
    }
   ],
   "source": [
    "#Check for any learners whose place of work did not map onto any levels\n",
    "learners[learners['Level'] == 'Others']"
   ]
  },
  {
   "cell_type": "code",
   "execution_count": null,
   "metadata": {},
   "outputs": [],
   "source": [
    "#Export to CSV\n",
    "learners.to_csv('OPAL_Data_Jan22_Jul22.csv')"
   ]
  },
  {
   "cell_type": "code",
   "execution_count": 24,
   "metadata": {},
   "outputs": [
    {
     "data": {
      "text/plain": [
       "Pri               628\n",
       "Sec               428\n",
       "HQ                 20\n",
       "Sec / JC           20\n",
       "JC                  9\n",
       "Special School      5\n",
       "Name: Level, dtype: int64"
      ]
     },
     "execution_count": 24,
     "metadata": {},
     "output_type": "execute_result"
    }
   ],
   "source": [
    "#Generate breakdown of learners by level\n",
    "learners['Level'].value_counts()"
   ]
  },
  {
   "cell_type": "code",
   "execution_count": null,
   "metadata": {},
   "outputs": [],
   "source": []
  }
 ],
 "metadata": {
  "kernelspec": {
   "display_name": "Python 3 (ipykernel)",
   "language": "python",
   "name": "python3"
  },
  "language_info": {
   "codemirror_mode": {
    "name": "ipython",
    "version": 3
   },
   "file_extension": ".py",
   "mimetype": "text/x-python",
   "name": "python",
   "nbconvert_exporter": "python",
   "pygments_lexer": "ipython3",
   "version": "3.8.13"
  }
 },
 "nbformat": 4,
 "nbformat_minor": 4
}
