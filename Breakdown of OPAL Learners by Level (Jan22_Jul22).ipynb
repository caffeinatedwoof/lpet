{
 "cells": [
  {
   "cell_type": "code",
   "execution_count": null,
   "metadata": {},
   "outputs": [],
   "source": [
    "#Import Pandas Library\n",
    "import pandas as pd\n",
    "\n",
    "#Modify file path accordingly \n",
    "learners = pd.read_csv(\"\") #Insert File Path here"
   ]
  },
  {
   "cell_type": "code",
   "execution_count": null,
   "metadata": {},
   "outputs": [],
   "source": [
    "#See what the CSV file looks like \n",
    "print('The first five rows of the dataset are')\n",
    "print('\\n')\n",
    "print(learners.head())\n",
    "print('The last five rows of the dataset are')\n",
    "print('\\n')\n",
    "print(learners.tail())"
   ]
  },
  {
   "cell_type": "code",
   "execution_count": null,
   "metadata": {},
   "outputs": [],
   "source": [
    "#Describe the dataframe\n",
    "learners.info()"
   ]
  },
  {
   "cell_type": "code",
   "execution_count": null,
   "metadata": {},
   "outputs": [],
   "source": [
    "#Extract only columns we are interested in \n",
    "learners = learners[['Name','Email','Place of Work','Learning Content Progress (%)', 'Attendance Summary', 'Progress Status',\n",
    "                     'Course Status', 'Completion Rate (%)']]"
   ]
  },
  {
   "cell_type": "code",
   "execution_count": null,
   "metadata": {},
   "outputs": [],
   "source": [
    "#Grab unique places of work listed in the file\n",
    "unique_names = list(learners['Place of Work'].unique())"
   ]
  },
  {
   "cell_type": "code",
   "execution_count": null,
   "metadata": {},
   "outputs": [],
   "source": [
    "#List down places of work that correspond to IP schools\n",
    "\n",
    "IP = ['Anglo-Chinese School (Independent)', 'School Of The Arts','School Of The Arts, Singapore', 'NUS High School', 'Dunman High Sch',\n",
    "     'Hwa Chong Instutition','Hwa Chong Institution' 'National Junior College', 'Raffles Institution','River Valley High Sch',\n",
    "     'Temasek Junior College', 'Victoria Sch', 'School of Science and Technology', 'St. Joseph’s Inst', \n",
    "      'River Valley High School', 'NUS High School of Mathematics & Science']"
   ]
  },
  {
   "cell_type": "code",
   "execution_count": null,
   "metadata": {},
   "outputs": [],
   "source": [
    "#List down places of work that correspond to NIE\n",
    "\n",
    "NIE = ['National Institute of Education (NIE)','MOE-NIE PGDE (Sec) (A-L)','MOE-NIE PGDE (Sec) (M-Z)']"
   ]
  },
  {
   "cell_type": "code",
   "execution_count": null,
   "metadata": {},
   "outputs": [],
   "source": [
    "#List down places of work that correspond to MOE HQ\n",
    "\n",
    "HQ = ['Gifted Education Branch, CPDD1, MOE','Psychological Services Branch, SEND, MOE','English Lang & Literature Br, CPDD2, MOE','Student Devt Coord’n Office, SDCD, MOE','Mother Tongue Lang Br, CPDD1','School Branch (North), Sch Division','MOE-NIE Diploma in Edun, MOE (HQ) - NIE','HQ, MOE - Untrained Kindergarten Tr','Seconded out officers', 'School Operations Policy Branch, SD, MOE', 'HR Management Centre, HSCD, HRG, MOE',\n",
    "     'Pedagogical Excellence Br, AST, MOE', 'Research & Evaluation Branch, RMID, MOE',\n",
    "     'Schools Branch (West), SD, MOE','Guidance Branch, SDCD, MOE','Learning P’ship in Edun Technol, ETD,MOE',\n",
    "     'Special Education Branch, SEND, MOE', 'Physical,Sports&Outdoor Edun Br,SDCD,MOE', \n",
    "      'Curriculum Policy Office, Prof Wing, MOE', 'Professional Development Br 2, AST, MOE',\n",
    "     'Media Design for Learning, ETD, MOE', 'Humanities Branch, CPDD2, MOE', 'HQ, MOE - Untrained AED (LBS)',\n",
    "     'Engagement Branch, ERD, CEG, MOE', 'Mother Tongue Languages Br, CPDD1, MOE', 'Recruitment Centre, HSCD, HRG, MOE',\n",
    "     'STAR, Prof Wing, MOE','Sciences Branch, CPDD1, MOE', 'ICT Security&Cybersecurity Gov’e,ITD','Professional Development Br 2, AST',\n",
    "     'International Cooperation Br, PLD','Pre-School Education Branch, SD', 'MOE Language Centre (Bishan), CPDD1',\n",
    "     'HR Management Centre, HSCD, HRG','Gifted Education Branch, CPDD1', 'Professional Development Br 1, AST', 'Pedagogical Excellence Br, AST',\n",
    "     'PESTA','Development Planning Br, IFS Div','Guidance Br, SDCD', 'Character & Citizenship Ed Br, SDCD','Organisational Devt& Psy Br,HSLD,HRG',\n",
    "     'Schools Corporate Development Br,SD', 'HR Policy and Planning Br, HSLD', 'Humanities Br, CPDD2','Curriculum Policy Office',\n",
    "     'Psychological Services Branch, SEND','Engagement Branch, ERD, CEG', 'Special Education Branch, SEND',\n",
    "     'School Branch (West), Sch Division','Management Information Branch, RMID','Education Policy Br, PLD',\n",
    "     'Experimental Sys & Tech Lab Br, ITD','English Lang & Literature Br, CPDD2','Sciences Branch, CPDD1','HQ',\n",
    "     'Technologies for Learning, ETD','User account requests for new OUs','Learning P’ship In Edu Tech, ETD','Headquarters, MOE']"
   ]
  },
  {
   "cell_type": "code",
   "execution_count": null,
   "metadata": {},
   "outputs": [],
   "source": [
    "#List down places of work that correspond to Special Schools\n",
    "\n",
    "special_schools = ['Canossian School','Rainbow Centre Admiral Hill School','Grace Orchard School','Pathlight School','APSN Katong School','Rainbow Centre Yishun Park School']"
   ]
  },
  {
   "cell_type": "code",
   "execution_count": null,
   "metadata": {},
   "outputs": [],
   "source": [
    "#Build dictionary manually to account for the various exceptions\n",
    "\n",
    "def build_dictionary(element):\n",
    "    if element in HQ:\n",
    "        return 'HQ'\n",
    "    elif 'De La Salle School' in element:\n",
    "        return 'Pri'\n",
    "    elif element in IP:\n",
    "        return 'Sec / JC'\n",
    "    elif element in NIE:\n",
    "        return 'NIE'\n",
    "    elif 'St. Patrick’s Sch' in element:\n",
    "        return 'Sec'\n",
    "    elif element in special_schools:\n",
    "        return 'Special School'\n",
    "    elif 'Junior College' in element:\n",
    "        return 'JC'\n",
    "    elif 'Catholic High Sch (Pr)' in element:\n",
    "        return 'Pri'\n",
    "    elif 'Presbyterian High Sch' in element:\n",
    "        return 'Sec'\n",
    "    elif 'Sec' in element:\n",
    "        return 'Sec'\n",
    "    elif 'Secondary' in element:\n",
    "        return 'Sec'\n",
    "    elif 'Hwa Chong' in element:\n",
    "        return 'Sec / JC'\n",
    "    elif 'Junior' in element:\n",
    "        return 'Pri'\n",
    "    elif 'Pr' in element:\n",
    "        return 'Pri'\n",
    "    elif 'Pri' in element:\n",
    "        return 'Pri'\n",
    "    elif 'Primary' in element:\n",
    "        return 'Pri'\n",
    "    elif 'High' in element:\n",
    "        return 'Sec'\n",
    "    elif 'Gan Eng Seng Sch' in element:\n",
    "        return 'Sec'\n",
    "    elif 'Assumption Pathway School' in element:\n",
    "        return 'Sec'\n",
    "    elif 'CHIJ (Katong)' in element:\n",
    "        return 'Pri'\n",
    "    elif 'CHIJ Katong Convent' in element:\n",
    "        return 'Pri'\n",
    "    elif 'CHIJ St. Joseph’s Convent' in element:\n",
    "        return 'Sec'\n",
    "    elif 'CHIJ Our Lady Of Good Counsel' in element:\n",
    "        return 'Pri'\n",
    "    elif 'Marymount Convent Sch' in element:\n",
    "        return 'Pri'\n",
    "    elif 'Pei Chun Public Sch' in element:\n",
    "        return 'Pri'\n",
    "    elif 'CHIJ Our Lady Of The Nativity' in element:\n",
    "        return 'Pri'\n",
    "    elif 'CHIJ St Theresa’s Convent' in element:\n",
    "        return 'Sec'\n",
    "    elif 'CHIJ Our Lady Queen of Peace' in element:\n",
    "        return 'Pri'\n",
    "    elif 'CHIJ St. Theresa’s Convent' in element:\n",
    "        return 'Sec'\n",
    "    elif 'Northlight School' in element:\n",
    "        return 'Sec'\n",
    "    elif 'NorthLight School' in element:\n",
    "        return 'Sec'\n",
    "    elif \"St. Patrick's Sch\" in element:\n",
    "        return 'Sec'\n",
    "    elif \"Ai Tong Sch\" in element:\n",
    "        return 'Pri'\n",
    "    elif \"CHIJ St Joseph’s Convent\" in element:\n",
    "        return 'Sec'\n",
    "    elif \"CHIJ (Kellock)\" in element:\n",
    "        return \"Pri\"\n",
    "    elif 'Anglo-Chinese School (Barker Road)' in element:\n",
    "        return 'Sec'\n",
    "    elif 'Hai Sing Catholic Sch' in element:\n",
    "        return 'Sec'\n",
    "    elif 'Crescent Girls’ Sch' in element:\n",
    "        return 'Sec'\n",
    "    elif 'Crescent Girls’ School' in element:\n",
    "        return 'Sec'\n",
    "    elif 'Kong Hwa Sch' in element:\n",
    "        return 'Pri'\n",
    "    elif 'Millennia Institute' in element:\n",
    "        return 'JC'\n",
    "    elif 'Kheng Cheng Sch' in element:\n",
    "        return 'Pri'\n",
    "    elif 'Chongfu School' in element:\n",
    "        return 'Pri'\n",
    "    elif 'Maha Bodhi Sch' in element:\n",
    "        return 'Pri'\n",
    "    elif 'Rosyth Sch' in element:\n",
    "        return 'Pri'\n",
    "    elif 'Singapore Chinese Girls’ School' in element:\n",
    "        return 'Sec'\n",
    "    elif 'Assumption English Sch' in element:\n",
    "        return 'Sec'\n",
    "    elif 'Red Swastika Sch' in element:\n",
    "        return 'Pri'\n",
    "    elif 'Hong Wen Sch' in element:\n",
    "        return 'Pri'\n",
    "    elif 'MOE Partners' in element:\n",
    "        return 'MOE Partners'\n",
    "    elif 'Tanjong Katong Girls’ Sch' in element:\n",
    "        return 'Sec'\n",
    "    elif 'Singapore Chinese Girls’ Sch' in element:\n",
    "        return 'Sec'\n",
    "    else: \n",
    "        return 'Others'\n",
    "        "
   ]
  },
  {
   "cell_type": "code",
   "execution_count": null,
   "metadata": {},
   "outputs": [],
   "source": [
    "#Build dictionary that maps Place of Work to Level\n",
    "\n",
    "d = {}\n",
    "for name in unique_names:\n",
    "    d[name] = build_dictionary(name)"
   ]
  },
  {
   "cell_type": "code",
   "execution_count": null,
   "metadata": {},
   "outputs": [],
   "source": [
    "#Function to convert Place of Work to Level based on dictionary\n",
    "\n",
    "def convert_name(place_of_work):\n",
    "    return d[place_of_work]"
   ]
  },
  {
   "cell_type": "code",
   "execution_count": null,
   "metadata": {},
   "outputs": [],
   "source": [
    "#Apply function to each row\n",
    "\n",
    "learners['Level'] = learners['Place of Work'].apply(convert_name)"
   ]
  },
  {
   "cell_type": "code",
   "execution_count": null,
   "metadata": {},
   "outputs": [],
   "source": [
    "#Check for any learners whose place of work did not map onto any levels\n",
    "learners[learners['Level'] == 'Others']"
   ]
  },
  {
   "cell_type": "code",
   "execution_count": null,
   "metadata": {},
   "outputs": [],
   "source": [
    "#Export to CSV\n",
    "learners.to_csv('OPAL_Data_Jan22_Jul22.csv')"
   ]
  },
  {
   "cell_type": "code",
   "execution_count": null,
   "metadata": {},
   "outputs": [],
   "source": [
    "#Generate breakdown of learners by level\n",
    "learners['Level'].value_counts()"
   ]
  }
 ],
 "metadata": {
  "kernelspec": {
   "display_name": "Python 3 (ipykernel)",
   "language": "python",
   "name": "python3"
  },
  "language_info": {
   "codemirror_mode": {
    "name": "ipython",
    "version": 3
   },
   "file_extension": ".py",
   "mimetype": "text/x-python",
   "name": "python",
   "nbconvert_exporter": "python",
   "pygments_lexer": "ipython3",
   "version": "3.8.13"
  }
 },
 "nbformat": 4,
 "nbformat_minor": 4
}
